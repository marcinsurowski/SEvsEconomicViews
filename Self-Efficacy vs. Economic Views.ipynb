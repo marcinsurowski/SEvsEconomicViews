{
 "cells": [
  {
   "cell_type": "code",
   "execution_count": 1,
   "id": "28af3425",
   "metadata": {},
   "outputs": [],
   "source": [
    "import numpy as np\n",
    "import pandas as pd\n",
    "import matplotlib.pyplot as plt\n",
    "import pingouin as pg\n",
    "from scipy import stats"
   ]
  },
  {
   "cell_type": "code",
   "execution_count": 2,
   "id": "22f48b6b",
   "metadata": {},
   "outputs": [],
   "source": [
    "df = pd.read_csv(\"C:/Users/marci/OneDrive/Pulpit/se_economic_views_data.csv\", sep = \";\", decimal=\",\")"
   ]
  },
  {
   "cell_type": "markdown",
   "id": "23922b8c",
   "metadata": {},
   "source": [
    "**Plec**: Sex (0: woman; 1: man)<br>\n",
    "**Wiek**: Age<br>\n",
    "**Wsparcie**: Boolean variable: beneficiary of public support or not<br>\n",
    "**SE**: Self Efficacy (result on the GSES scale)<br>\n",
    "**Przekonania_kulturowe**: Cultural political views (result on one of main scales in the Political Beliefs Questionnaire)<br>\n",
    "**Przekonania_ekonomiczne**: Economic political views (result on one of main scales in the Political Beliefs Questionnaire)<br>\n",
    "**Fundamentalizm_religijny**: Religious fundamentalism (result on one of subscales in the Political Beliefs Questionnaire)<br>\n",
    "**Ksenofobia**: Xenophobia (result on one of subscales in the Political Beliefs Questionnaire)<br>\n",
    "**Akceptacja_kapitalizmu**: Capitalism acceptance (result on one of subscales in the Political Beliefs Questionnaire)<br>\n",
    "**Antyinterwencjonizm**: Anti-Interventionism (result on one of subscales in the Political Beliefs Questionnaire)<br>"
   ]
  },
  {
   "cell_type": "markdown",
   "id": "deba14c5",
   "metadata": {},
   "source": [
    "<br>\n",
    "<font size=\"5\">Cronbach's Alpha - relability of all scales:</font>"
   ]
  },
  {
   "cell_type": "code",
   "execution_count": 3,
   "id": "f2b3655f",
   "metadata": {},
   "outputs": [
    {
     "data": {
      "text/html": [
       "<div>\n",
       "<style scoped>\n",
       "    .dataframe tbody tr th:only-of-type {\n",
       "        vertical-align: middle;\n",
       "    }\n",
       "\n",
       "    .dataframe tbody tr th {\n",
       "        vertical-align: top;\n",
       "    }\n",
       "\n",
       "    .dataframe thead th {\n",
       "        text-align: right;\n",
       "    }\n",
       "</style>\n",
       "<table border=\"1\" class=\"dataframe\">\n",
       "  <thead>\n",
       "    <tr style=\"text-align: right;\">\n",
       "      <th></th>\n",
       "      <th>Scale</th>\n",
       "      <th>Cronbach Alpha</th>\n",
       "    </tr>\n",
       "  </thead>\n",
       "  <tbody>\n",
       "    <tr>\n",
       "      <th></th>\n",
       "      <td>GSES</td>\n",
       "      <td>0.89</td>\n",
       "    </tr>\n",
       "    <tr>\n",
       "      <th></th>\n",
       "      <td>Przekonania_ekonomiczne</td>\n",
       "      <td>0.78</td>\n",
       "    </tr>\n",
       "    <tr>\n",
       "      <th></th>\n",
       "      <td>Akceptacja_kapitalizmu</td>\n",
       "      <td>0.47</td>\n",
       "    </tr>\n",
       "    <tr>\n",
       "      <th></th>\n",
       "      <td>Antyinterwencjonizm</td>\n",
       "      <td>0.79</td>\n",
       "    </tr>\n",
       "    <tr>\n",
       "      <th></th>\n",
       "      <td>Przekonania_kulturowe</td>\n",
       "      <td>0.89</td>\n",
       "    </tr>\n",
       "    <tr>\n",
       "      <th></th>\n",
       "      <td>Fundamentalizm_religijny</td>\n",
       "      <td>0.90</td>\n",
       "    </tr>\n",
       "    <tr>\n",
       "      <th></th>\n",
       "      <td>Ksenofobia</td>\n",
       "      <td>0.81</td>\n",
       "    </tr>\n",
       "  </tbody>\n",
       "</table>\n",
       "</div>"
      ],
      "text/plain": [
       "                     Scale  Cronbach Alpha\n",
       "                      GSES            0.89\n",
       "   Przekonania_ekonomiczne            0.78\n",
       "    Akceptacja_kapitalizmu            0.47\n",
       "       Antyinterwencjonizm            0.79\n",
       "     Przekonania_kulturowe            0.89\n",
       "  Fundamentalizm_religijny            0.90\n",
       "                Ksenofobia            0.81"
      ]
     },
     "execution_count": 3,
     "metadata": {},
     "output_type": "execute_result"
    }
   ],
   "source": [
    "GSES = pg.cronbach_alpha(data=df[['GSES_1', 'GSES_2','GSES_3', 'GSES_4', 'GSES_5', \n",
    "                                  'GSES_6', 'GSES_7', 'GSES_8', 'GSES_9', 'GSES_10']])[0]\n",
    "\n",
    "Przekonania_ekonomiczne = pg.cronbach_alpha(data=df[['KPP_2', 'KPP_4', 'KPP_10', 'KPP_6_ODW', 'KPP_8_ODW', 'KPP_12_ODW',\n",
    "                                                     'KPP_14_ODW', 'KPP_16_ODW', 'KPP_17_ODW', 'KPP_19_ODW']])[0]\n",
    "Akceptacja_kapitalizmu = pg.cronbach_alpha(data=df[['KPP_2', 'KPP_4', 'KPP_10']])[0]\n",
    "Antyinterwencjonizm = pg.cronbach_alpha(data=df[['KPP_6_ODW', 'KPP_8_ODW', 'KPP_12_ODW', 'KPP_14_ODW',\n",
    "                                                    'KPP_16_ODW', 'KPP_17_ODW', 'KPP_19_ODW']])[0]\n",
    "\n",
    "Przekonania_kulturowe = pg.cronbach_alpha(data=df[['KPP_7', 'KPP_15', 'KPP_18', 'KPP_1', 'KPP_3', \n",
    "                                                   'KPP_5', 'KPP_9', 'KPP_11_ODW', 'KPP_13']])[0]\n",
    "Fundamentalizm_religijny = pg.cronbach_alpha(data=df[['KPP_1', 'KPP_3', 'KPP_5', 'KPP_9', 'KPP_11_ODW', 'KPP_13']])[0]\n",
    "Ksenofobia = pg.cronbach_alpha(data=df[['KPP_7', 'KPP_15', 'KPP_18']])[0]\n",
    "\n",
    "data = [['GSES', GSES], ['Przekonania_ekonomiczne', Przekonania_ekonomiczne], \n",
    "        ['Akceptacja_kapitalizmu', Akceptacja_kapitalizmu], ['Antyinterwencjonizm', Antyinterwencjonizm],\n",
    "        ['Przekonania_kulturowe', Przekonania_kulturowe], ['Fundamentalizm_religijny', Fundamentalizm_religijny],\n",
    "        ['Ksenofobia', Ksenofobia]]\n",
    "rzetelnosc = pd.DataFrame(data, columns=['Scale', 'Cronbach Alpha'])\n",
    "blankIndex = [''] * len(rzetelnosc)\n",
    "rzetelnosc.index=blankIndex\n",
    "np.around(rzetelnosc, 2)"
   ]
  },
  {
   "cell_type": "markdown",
   "id": "c1ae5755",
   "metadata": {},
   "source": [
    "<br>\n",
    "<font size=\"5\">Descriptive Statistics:</font>"
   ]
  },
  {
   "cell_type": "code",
   "execution_count": 4,
   "id": "21a9e4cc",
   "metadata": {},
   "outputs": [
    {
     "data": {
      "text/html": [
       "<div>\n",
       "<style scoped>\n",
       "    .dataframe tbody tr th:only-of-type {\n",
       "        vertical-align: middle;\n",
       "    }\n",
       "\n",
       "    .dataframe tbody tr th {\n",
       "        vertical-align: top;\n",
       "    }\n",
       "\n",
       "    .dataframe thead th {\n",
       "        text-align: right;\n",
       "    }\n",
       "</style>\n",
       "<table border=\"1\" class=\"dataframe\">\n",
       "  <thead>\n",
       "    <tr style=\"text-align: right;\">\n",
       "      <th></th>\n",
       "      <th>Plec</th>\n",
       "      <th>Wiek</th>\n",
       "      <th>Wsparcie</th>\n",
       "      <th>SE</th>\n",
       "      <th>Przekonania_kulturowe</th>\n",
       "      <th>Przekonania_ekonomiczne</th>\n",
       "      <th>Fundamentalizm_religijny</th>\n",
       "      <th>Ksenofobia</th>\n",
       "      <th>Akceptacja_kapitalizmu</th>\n",
       "      <th>Antyinterwencjonizm</th>\n",
       "    </tr>\n",
       "  </thead>\n",
       "  <tbody>\n",
       "    <tr>\n",
       "      <th>0</th>\n",
       "      <td>1</td>\n",
       "      <td>27</td>\n",
       "      <td>1</td>\n",
       "      <td>32</td>\n",
       "      <td>3.33</td>\n",
       "      <td>2.90</td>\n",
       "      <td>3.33</td>\n",
       "      <td>3.33</td>\n",
       "      <td>2.67</td>\n",
       "      <td>3.14</td>\n",
       "    </tr>\n",
       "    <tr>\n",
       "      <th>1</th>\n",
       "      <td>1</td>\n",
       "      <td>26</td>\n",
       "      <td>0</td>\n",
       "      <td>34</td>\n",
       "      <td>2.75</td>\n",
       "      <td>2.52</td>\n",
       "      <td>2.50</td>\n",
       "      <td>3.00</td>\n",
       "      <td>1.33</td>\n",
       "      <td>3.71</td>\n",
       "    </tr>\n",
       "    <tr>\n",
       "      <th>2</th>\n",
       "      <td>0</td>\n",
       "      <td>40</td>\n",
       "      <td>1</td>\n",
       "      <td>28</td>\n",
       "      <td>3.83</td>\n",
       "      <td>2.86</td>\n",
       "      <td>3.33</td>\n",
       "      <td>4.33</td>\n",
       "      <td>3.00</td>\n",
       "      <td>2.71</td>\n",
       "    </tr>\n",
       "    <tr>\n",
       "      <th>3</th>\n",
       "      <td>0</td>\n",
       "      <td>57</td>\n",
       "      <td>0</td>\n",
       "      <td>36</td>\n",
       "      <td>2.42</td>\n",
       "      <td>2.05</td>\n",
       "      <td>2.83</td>\n",
       "      <td>2.00</td>\n",
       "      <td>1.67</td>\n",
       "      <td>2.43</td>\n",
       "    </tr>\n",
       "    <tr>\n",
       "      <th>4</th>\n",
       "      <td>0</td>\n",
       "      <td>18</td>\n",
       "      <td>1</td>\n",
       "      <td>30</td>\n",
       "      <td>3.25</td>\n",
       "      <td>2.07</td>\n",
       "      <td>3.50</td>\n",
       "      <td>3.00</td>\n",
       "      <td>3.00</td>\n",
       "      <td>1.14</td>\n",
       "    </tr>\n",
       "  </tbody>\n",
       "</table>\n",
       "</div>"
      ],
      "text/plain": [
       "   Plec  Wiek  Wsparcie  SE  Przekonania_kulturowe  Przekonania_ekonomiczne  \\\n",
       "0     1    27         1  32                   3.33                     2.90   \n",
       "1     1    26         0  34                   2.75                     2.52   \n",
       "2     0    40         1  28                   3.83                     2.86   \n",
       "3     0    57         0  36                   2.42                     2.05   \n",
       "4     0    18         1  30                   3.25                     2.07   \n",
       "\n",
       "   Fundamentalizm_religijny  Ksenofobia  Akceptacja_kapitalizmu  \\\n",
       "0                      3.33        3.33                    2.67   \n",
       "1                      2.50        3.00                    1.33   \n",
       "2                      3.33        4.33                    3.00   \n",
       "3                      2.83        2.00                    1.67   \n",
       "4                      3.50        3.00                    3.00   \n",
       "\n",
       "   Antyinterwencjonizm  \n",
       "0                 3.14  \n",
       "1                 3.71  \n",
       "2                 2.71  \n",
       "3                 2.43  \n",
       "4                 1.14  "
      ]
     },
     "execution_count": 4,
     "metadata": {},
     "output_type": "execute_result"
    }
   ],
   "source": [
    "df = df[[\"Plec\", \"Wiek\", \"Wsparcie\", \"SE\", \"Przekonania_kulturowe\", \"Przekonania_ekonomiczne\",\n",
    "         \"Fundamentalizm_religijny\", \"Ksenofobia\", 'Akceptacja_kapitalizmu', 'Antyinterwencjonizm']]\n",
    "\n",
    "df.head()"
   ]
  },
  {
   "cell_type": "code",
   "execution_count": 5,
   "id": "d44c2451",
   "metadata": {},
   "outputs": [
    {
     "data": {
      "text/html": [
       "<div>\n",
       "<style scoped>\n",
       "    .dataframe tbody tr th:only-of-type {\n",
       "        vertical-align: middle;\n",
       "    }\n",
       "\n",
       "    .dataframe tbody tr th {\n",
       "        vertical-align: top;\n",
       "    }\n",
       "\n",
       "    .dataframe thead th {\n",
       "        text-align: right;\n",
       "    }\n",
       "</style>\n",
       "<table border=\"1\" class=\"dataframe\">\n",
       "  <thead>\n",
       "    <tr style=\"text-align: right;\">\n",
       "      <th></th>\n",
       "      <th>mean</th>\n",
       "      <th>median</th>\n",
       "      <th>std</th>\n",
       "      <th>skewness</th>\n",
       "      <th>kurtosis</th>\n",
       "      <th>min</th>\n",
       "      <th>max</th>\n",
       "      <th>ks_test</th>\n",
       "      <th>ks_test_pvalue</th>\n",
       "    </tr>\n",
       "  </thead>\n",
       "  <tbody>\n",
       "    <tr>\n",
       "      <th>Wiek</th>\n",
       "      <td>35.10</td>\n",
       "      <td>29.00</td>\n",
       "      <td>13.38</td>\n",
       "      <td>1.03</td>\n",
       "      <td>0.08</td>\n",
       "      <td>18.00</td>\n",
       "      <td>80.00</td>\n",
       "      <td>0.20</td>\n",
       "      <td>0.00</td>\n",
       "    </tr>\n",
       "    <tr>\n",
       "      <th>SE</th>\n",
       "      <td>30.94</td>\n",
       "      <td>30.00</td>\n",
       "      <td>4.85</td>\n",
       "      <td>-0.64</td>\n",
       "      <td>1.84</td>\n",
       "      <td>10.00</td>\n",
       "      <td>40.00</td>\n",
       "      <td>0.10</td>\n",
       "      <td>0.01</td>\n",
       "    </tr>\n",
       "    <tr>\n",
       "      <th>Przekonania_kulturowe</th>\n",
       "      <td>2.33</td>\n",
       "      <td>2.17</td>\n",
       "      <td>1.00</td>\n",
       "      <td>0.61</td>\n",
       "      <td>-0.39</td>\n",
       "      <td>1.00</td>\n",
       "      <td>4.92</td>\n",
       "      <td>0.10</td>\n",
       "      <td>0.02</td>\n",
       "    </tr>\n",
       "    <tr>\n",
       "      <th>Przekonania_ekonomiczne</th>\n",
       "      <td>2.85</td>\n",
       "      <td>2.79</td>\n",
       "      <td>0.71</td>\n",
       "      <td>0.53</td>\n",
       "      <td>0.09</td>\n",
       "      <td>1.36</td>\n",
       "      <td>5.00</td>\n",
       "      <td>0.05</td>\n",
       "      <td>0.44</td>\n",
       "    </tr>\n",
       "    <tr>\n",
       "      <th>Fundamentalizm_religijny</th>\n",
       "      <td>2.31</td>\n",
       "      <td>2.00</td>\n",
       "      <td>1.12</td>\n",
       "      <td>0.74</td>\n",
       "      <td>-0.47</td>\n",
       "      <td>1.00</td>\n",
       "      <td>5.00</td>\n",
       "      <td>0.14</td>\n",
       "      <td>0.00</td>\n",
       "    </tr>\n",
       "    <tr>\n",
       "      <th>Ksenofobia</th>\n",
       "      <td>2.35</td>\n",
       "      <td>2.00</td>\n",
       "      <td>1.14</td>\n",
       "      <td>0.61</td>\n",
       "      <td>-0.61</td>\n",
       "      <td>1.00</td>\n",
       "      <td>5.00</td>\n",
       "      <td>0.13</td>\n",
       "      <td>0.00</td>\n",
       "    </tr>\n",
       "    <tr>\n",
       "      <th>Akceptacja_kapitalizmu</th>\n",
       "      <td>2.67</td>\n",
       "      <td>2.67</td>\n",
       "      <td>0.84</td>\n",
       "      <td>0.40</td>\n",
       "      <td>-0.19</td>\n",
       "      <td>1.00</td>\n",
       "      <td>5.00</td>\n",
       "      <td>0.11</td>\n",
       "      <td>0.01</td>\n",
       "    </tr>\n",
       "    <tr>\n",
       "      <th>Antyinterwencjonizm</th>\n",
       "      <td>3.02</td>\n",
       "      <td>3.00</td>\n",
       "      <td>0.89</td>\n",
       "      <td>0.09</td>\n",
       "      <td>-0.51</td>\n",
       "      <td>1.00</td>\n",
       "      <td>5.00</td>\n",
       "      <td>0.05</td>\n",
       "      <td>0.49</td>\n",
       "    </tr>\n",
       "  </tbody>\n",
       "</table>\n",
       "</div>"
      ],
      "text/plain": [
       "                           mean  median    std  skewness  kurtosis    min  \\\n",
       "Wiek                      35.10   29.00  13.38      1.03      0.08  18.00   \n",
       "SE                        30.94   30.00   4.85     -0.64      1.84  10.00   \n",
       "Przekonania_kulturowe      2.33    2.17   1.00      0.61     -0.39   1.00   \n",
       "Przekonania_ekonomiczne    2.85    2.79   0.71      0.53      0.09   1.36   \n",
       "Fundamentalizm_religijny   2.31    2.00   1.12      0.74     -0.47   1.00   \n",
       "Ksenofobia                 2.35    2.00   1.14      0.61     -0.61   1.00   \n",
       "Akceptacja_kapitalizmu     2.67    2.67   0.84      0.40     -0.19   1.00   \n",
       "Antyinterwencjonizm        3.02    3.00   0.89      0.09     -0.51   1.00   \n",
       "\n",
       "                            max  ks_test  ks_test_pvalue  \n",
       "Wiek                      80.00     0.20            0.00  \n",
       "SE                        40.00     0.10            0.01  \n",
       "Przekonania_kulturowe      4.92     0.10            0.02  \n",
       "Przekonania_ekonomiczne    5.00     0.05            0.44  \n",
       "Fundamentalizm_religijny   5.00     0.14            0.00  \n",
       "Ksenofobia                 5.00     0.13            0.00  \n",
       "Akceptacja_kapitalizmu     5.00     0.11            0.01  \n",
       "Antyinterwencjonizm        5.00     0.05            0.49  "
      ]
     },
     "execution_count": 5,
     "metadata": {},
     "output_type": "execute_result"
    }
   ],
   "source": [
    "numeric = df[[\"Wiek\", \"SE\", \"Przekonania_kulturowe\", \"Przekonania_ekonomiczne\",\n",
    "              \"Fundamentalizm_religijny\", \"Ksenofobia\", 'Akceptacja_kapitalizmu', 'Antyinterwencjonizm']]\n",
    "\n",
    "sta_des = numeric.describe()\n",
    "sta_des.loc['median'] = numeric.median().tolist()\n",
    "sta_des.loc['skewness'] = numeric.skew().tolist()\n",
    "sta_des.loc['kurtosis'] = numeric.kurtosis().tolist()\n",
    "\n",
    "variables = [\"Wiek\", \"SE\", \"Przekonania_kulturowe\", \"Przekonania_ekonomiczne\",\n",
    "             \"Fundamentalizm_religijny\", \"Ksenofobia\", 'Akceptacja_kapitalizmu', 'Antyinterwencjonizm']\n",
    "\n",
    "kolsmo = []\n",
    "kolsmo_p = []\n",
    "\n",
    "for v in numeric:\n",
    "    x = df[v]\n",
    "    x_stand = (x - np.mean(x)) / np.std(x, ddof=1)\n",
    "    ks = stats.kstest(x_stand, 'norm')\n",
    "    kolsmo.append(ks.statistic)\n",
    "    kolsmo_p.append(ks.pvalue)\n",
    "    \n",
    "sta_des.loc['ks_test'] = kolsmo\n",
    "sta_des.loc['ks_test_pvalue'] = kolsmo_p\n",
    "\n",
    "np.around(sta_des.T[[\"mean\", \"median\", \"std\", \"skewness\", \"kurtosis\", \"min\", \"max\", \"ks_test\", \"ks_test_pvalue\"]],2)"
   ]
  },
  {
   "cell_type": "code",
   "execution_count": 6,
   "id": "93564b61",
   "metadata": {},
   "outputs": [
    {
     "name": "stdout",
     "output_type": "stream",
     "text": [
      "Variable Plec:\n"
     ]
    },
    {
     "data": {
      "image/png": "[encoded data removed]",
      "text/plain": [
       "<Figure size 432x288 with 1 Axes>"
      ]
     },
     "metadata": {
      "needs_background": "light"
     },
     "output_type": "display_data"
    },
    {
     "name": "stdout",
     "output_type": "stream",
     "text": [
      "Variable Wiek:\n"
     ]
    },
    {
     "data": {
      "image/png": "[encoded data removed]",
      "text/plain": [
       "<Figure size 432x288 with 1 Axes>"
      ]
     },
     "metadata": {
      "needs_background": "light"
     },
     "output_type": "display_data"
    },
    {
     "name": "stdout",
     "output_type": "stream",
     "text": [
      "Variable Wsparcie:\n"
     ]
    },
    {
     "data": {
      "image/png": "[encoded data removed]",
      "text/plain": [
       "<Figure size 432x288 with 1 Axes>"
      ]
     },
     "metadata": {
      "needs_background": "light"
     },
     "output_type": "display_data"
    },
    {
     "name": "stdout",
     "output_type": "stream",
     "text": [
      "Variable SE:\n"
     ]
    },
    {
     "data": {
      "image/png": "[encoded data removed]",
      "text/plain": [
       "<Figure size 432x288 with 1 Axes>"
      ]
     },
     "metadata": {
      "needs_background": "light"
     },
     "output_type": "display_data"
    },
    {
     "name": "stdout",
     "output_type": "stream",
     "text": [
      "Variable Przekonania_kulturowe:\n"
     ]
    },
    {
     "data": {
      "image/png": "[encoded data removed]",
      "text/plain": [
       "<Figure size 432x288 with 1 Axes>"
      ]
     },
     "metadata": {
      "needs_background": "light"
     },
     "output_type": "display_data"
    },
    {
     "name": "stdout",
     "output_type": "stream",
     "text": [
      "Variable Przekonania_ekonomiczne:\n"
     ]
    },
    {
     "data": {
      "image/png": "[encoded data removed]",
      "text/plain": [
       "<Figure size 432x288 with 1 Axes>"
      ]
     },
     "metadata": {
      "needs_background": "light"
     },
     "output_type": "display_data"
    },
    {
     "name": "stdout",
     "output_type": "stream",
     "text": [
      "Variable Fundamentalizm_religijny:\n"
     ]
    },
    {
     "data": {
      "image/png": "[encoded data removed]",
      "text/plain": [
       "<Figure size 432x288 with 1 Axes>"
      ]
     },
     "metadata": {
      "needs_background": "light"
     },
     "output_type": "display_data"
    },
    {
     "name": "stdout",
     "output_type": "stream",
     "text": [
      "Variable Ksenofobia:\n"
     ]
    },
    {
     "data": {
      "image/png": "[encoded data removed]",
      "text/plain": [
       "<Figure size 432x288 with 1 Axes>"
      ]
     },
     "metadata": {
      "needs_background": "light"
     },
     "output_type": "display_data"
    },
    {
     "name": "stdout",
     "output_type": "stream",
     "text": [
      "Variable Akceptacja_kapitalizmu:\n"
     ]
    },
    {
     "data": {
      "image/png": "[encoded data removed]",
      "text/plain": [
       "<Figure size 432x288 with 1 Axes>"
      ]
     },
     "metadata": {
      "needs_background": "light"
     },
     "output_type": "display_data"
    },
    {
     "name": "stdout",
     "output_type": "stream",
     "text": [
      "Variable Antyinterwencjonizm:\n"
     ]
    },
    {
     "data": {
      "image/png": "[encoded data removed]",
      "text/plain": [
       "<Figure size 432x288 with 1 Axes>"
      ]
     },
     "metadata": {
      "needs_background": "light"
     },
     "output_type": "display_data"
    }
   ],
   "source": [
    "cols = [\"Plec\", \"Wiek\", \"Wsparcie\", \"SE\", \"Przekonania_kulturowe\", \"Przekonania_ekonomiczne\",\n",
    "         \"Fundamentalizm_religijny\", \"Ksenofobia\", 'Akceptacja_kapitalizmu', 'Antyinterwencjonizm']\n",
    "\n",
    "for col in cols:\n",
    "    print(f\"Variable {col}:\")\n",
    "    plt.hist(df[col], bins=10)\n",
    "    plt.show()"
   ]
  },
  {
   "cell_type": "markdown",
   "id": "b489fb0f",
   "metadata": {},
   "source": [
    "<br>\n",
    "<font size=\"5\">Self-Efficacy vs. Economic views (correlation on the whole dataset):</font>"
   ]
  },
  {
   "cell_type": "code",
   "execution_count": 7,
   "id": "726f36b9",
   "metadata": {},
   "outputs": [
    {
     "name": "stdout",
     "output_type": "stream",
     "text": [
      "Pearson's r: 0.06\n",
      "p-value: 0.37\n"
     ]
    },
    {
     "data": {
      "image/png": "[encoded data removed]",
      "text/plain": [
       "<Figure size 432x288 with 1 Axes>"
      ]
     },
     "metadata": {
      "needs_background": "light"
     },
     "output_type": "display_data"
    }
   ],
   "source": [
    "plt.scatter(x = df[\"SE\"], y = df[\"Przekonania_ekonomiczne\"])\n",
    "cor = stats.pearsonr(df[\"SE\"], df[\"Przekonania_ekonomiczne\"])[0]\n",
    "cor_p = stats.pearsonr(df[\"SE\"], df[\"Przekonania_ekonomiczne\"])[1]\n",
    "print(f\"Pearson's r: {np.around(cor, 2)}\")\n",
    "print(f\"p-value: {np.around(cor_p, 2)}\")"
   ]
  },
  {
   "cell_type": "code",
   "execution_count": 8,
   "id": "df34c928",
   "metadata": {},
   "outputs": [
    {
     "name": "stdout",
     "output_type": "stream",
     "text": [
      "Pearson's r: 0.06\n",
      "p-value: 0.32\n"
     ]
    },
    {
     "data": {
      "image/png": "[encoded data removed]",
      "text/plain": [
       "<Figure size 432x288 with 1 Axes>"
      ]
     },
     "metadata": {
      "needs_background": "light"
     },
     "output_type": "display_data"
    }
   ],
   "source": [
    "plt.scatter(x = df[\"SE\"], y = df[\"Akceptacja_kapitalizmu\"])\n",
    "cor = stats.pearsonr(df[\"SE\"], df[\"Akceptacja_kapitalizmu\"])[0]\n",
    "cor_p = stats.pearsonr(df[\"SE\"], df[\"Akceptacja_kapitalizmu\"])[1]\n",
    "print(f\"Pearson's r: {np.around(cor, 2)}\")\n",
    "print(f\"p-value: {np.around(cor_p, 2)}\")"
   ]
  },
  {
   "cell_type": "code",
   "execution_count": 9,
   "id": "97176769",
   "metadata": {},
   "outputs": [
    {
     "name": "stdout",
     "output_type": "stream",
     "text": [
      "Pearson's r: 0.03\n",
      "p-value: 0.61\n"
     ]
    },
    {
     "data": {
      "image/png": "[encoded data removed]",
      "text/plain": [
       "<Figure size 432x288 with 1 Axes>"
      ]
     },
     "metadata": {
      "needs_background": "light"
     },
     "output_type": "display_data"
    }
   ],
   "source": [
    "plt.scatter(x = df[\"SE\"], y = df[\"Antyinterwencjonizm\"])\n",
    "cor = stats.pearsonr(df[\"SE\"], df[\"Antyinterwencjonizm\"])[0]\n",
    "cor_p = stats.pearsonr(df[\"SE\"], df[\"Antyinterwencjonizm\"])[1]\n",
    "print(f\"Pearson's r: {np.around(cor, 2)}\")\n",
    "print(f\"p-value: {np.around(cor_p, 2)}\")"
   ]
  },
  {
   "cell_type": "markdown",
   "id": "8e120421",
   "metadata": {},
   "source": [
    "<br>\n",
    "<font size=\"5\">Sex differences - SE vs. Economic Views:</font>"
   ]
  },
  {
   "cell_type": "code",
   "execution_count": 10,
   "id": "220748ba",
   "metadata": {},
   "outputs": [
    {
     "name": "stdout",
     "output_type": "stream",
     "text": [
      "Pearson's r: 0.18\n",
      "p-value: 0.08\n"
     ]
    },
    {
     "data": {
      "image/png": "[encoded data removed]",
      "text/plain": [
       "<Figure size 432x288 with 1 Axes>"
      ]
     },
     "metadata": {
      "needs_background": "light"
     },
     "output_type": "display_data"
    }
   ],
   "source": [
    "df_men = df[df[\"Plec\"] == 1]\n",
    "plt.scatter(x = df_men[\"SE\"], y = df_men[\"Przekonania_ekonomiczne\"])\n",
    "cor = stats.pearsonr(df_men[\"SE\"], df_men[\"Przekonania_ekonomiczne\"])[0]\n",
    "cor_p = stats.pearsonr(df_men[\"SE\"], df_men[\"Przekonania_ekonomiczne\"])[1]\n",
    "print(f\"Pearson's r: {np.around(cor, 2)}\")\n",
    "print(f\"p-value: {np.around(cor_p, 2)}\")"
   ]
  },
  {
   "cell_type": "code",
   "execution_count": 11,
   "id": "a94c8293",
   "metadata": {},
   "outputs": [
    {
     "name": "stdout",
     "output_type": "stream",
     "text": [
      "Pearson's r: -0.03\n",
      "p-value: 0.74\n"
     ]
    },
    {
     "data": {
      "image/png": "[encoded data removed]",
      "text/plain": [
       "<Figure size 432x288 with 1 Axes>"
      ]
     },
     "metadata": {
      "needs_background": "light"
     },
     "output_type": "display_data"
    }
   ],
   "source": [
    "df_women = df[df[\"Plec\"] == 0]\n",
    "plt.scatter(x = df_women[\"SE\"], y = df_women[\"Przekonania_ekonomiczne\"])\n",
    "cor = stats.pearsonr(df_women[\"SE\"], df_women[\"Przekonania_ekonomiczne\"])[0]\n",
    "cor_p = stats.pearsonr(df_women[\"SE\"], df_women[\"Przekonania_ekonomiczne\"])[1]\n",
    "print(f\"Pearson's r: {np.around(cor, 2)}\")\n",
    "print(f\"p-value: {np.around(cor_p, 2)}\")"
   ]
  },
  {
   "cell_type": "markdown",
   "id": "51f2b40d",
   "metadata": {},
   "source": [
    "<br>\n",
    "<font size=\"5\">Coherent views + Sex: SE vs. Economic Views:</font>"
   ]
  },
  {
   "cell_type": "code",
   "execution_count": 12,
   "id": "b87fae69",
   "metadata": {},
   "outputs": [
    {
     "name": "stdout",
     "output_type": "stream",
     "text": [
      "Spojne poglady:\n",
      "\n",
      "Pearson's r: 0.09\n",
      "p-value: 0.33\n"
     ]
    },
    {
     "data": {
      "image/png": "[encoded data removed]",
      "text/plain": [
       "<Figure size 432x288 with 1 Axes>"
      ]
     },
     "metadata": {
      "needs_background": "light"
     },
     "output_type": "display_data"
    },
    {
     "name": "stdout",
     "output_type": "stream",
     "text": [
      "Niespojne poglady:\n",
      "\n",
      "Pearson's r: 0.01\n",
      "p-value: 0.95\n"
     ]
    },
    {
     "data": {
      "image/png": "[encoded data removed]",
      "text/plain": [
       "<Figure size 432x288 with 1 Axes>"
      ]
     },
     "metadata": {
      "needs_background": "light"
     },
     "output_type": "display_data"
    }
   ],
   "source": [
    "df[\"Poglady_diff\"] = abs(df[\"Przekonania_kulturowe\"] - df[\"Przekonania_ekonomiczne\"])\n",
    "\n",
    "mediana = np.median(df[\"Poglady_diff\"])\n",
    "    \n",
    "df_spojne = df[df[\"Poglady_diff\"] <= mediana]\n",
    "    \n",
    "print(\"Spojne poglady:\")\n",
    "print()\n",
    "cor = stats.pearsonr(df_spojne[\"SE\"], df_spojne[\"Przekonania_ekonomiczne\"])[0]\n",
    "cor_p = stats.pearsonr(df_spojne[\"SE\"], df_spojne[\"Przekonania_ekonomiczne\"])[1]\n",
    "print(f\"Pearson's r: {np.around(cor, 2)}\")\n",
    "print(f\"p-value: {np.around(cor_p, 2)}\")\n",
    "plt.scatter(x = df_spojne[\"SE\"], y = df_spojne[\"Przekonania_ekonomiczne\"])\n",
    "plt.show()\n",
    "    \n",
    "df_niespojne = df[df[\"Poglady_diff\"] > mediana]\n",
    "\n",
    "print(\"Niespojne poglady:\")\n",
    "print()\n",
    "cor = stats.pearsonr(df_niespojne[\"SE\"], df_niespojne[\"Przekonania_ekonomiczne\"])[0]\n",
    "cor_p = stats.pearsonr(df_niespojne[\"SE\"], df_niespojne[\"Przekonania_ekonomiczne\"])[1]\n",
    "print(f\"Pearson's r: {np.around(cor, 2)}\")\n",
    "print(f\"p-value: {np.around(cor_p, 2)}\")\n",
    "plt.scatter(x = df_niespojne[\"SE\"], y = df_niespojne[\"Przekonania_ekonomiczne\"])\n",
    "plt.show()"
   ]
  },
  {
   "cell_type": "code",
   "execution_count": 13,
   "id": "55e71847",
   "metadata": {},
   "outputs": [
    {
     "name": "stdout",
     "output_type": "stream",
     "text": [
      "0\n",
      "Spojne poglady:\n",
      "\n",
      "Pearson's r: 0.01\n",
      "p-value: 0.93\n"
     ]
    },
    {
     "data": {
      "image/png": "[encoded data removed]",
      "text/plain": [
       "<Figure size 432x288 with 1 Axes>"
      ]
     },
     "metadata": {
      "needs_background": "light"
     },
     "output_type": "display_data"
    },
    {
     "name": "stdout",
     "output_type": "stream",
     "text": [
      "0\n",
      "Niespojne poglady:\n",
      "\n",
      "Pearson's r: -0.06\n",
      "p-value: 0.57\n"
     ]
    },
    {
     "data": {
      "image/png": "[encoded data removed]",
      "text/plain": [
       "<Figure size 432x288 with 1 Axes>"
      ]
     },
     "metadata": {
      "needs_background": "light"
     },
     "output_type": "display_data"
    },
    {
     "name": "stdout",
     "output_type": "stream",
     "text": [
      "1\n",
      "Spojne poglady:\n",
      "\n",
      "Pearson's r: 0.29\n",
      "p-value: 0.04\n"
     ]
    },
    {
     "data": {
      "image/png": "[encoded data removed]",
      "text/plain": [
       "<Figure size 432x288 with 1 Axes>"
      ]
     },
     "metadata": {
      "needs_background": "light"
     },
     "output_type": "display_data"
    },
    {
     "name": "stdout",
     "output_type": "stream",
     "text": [
      "1\n",
      "Niespojne poglady:\n",
      "\n",
      "Pearson's r: 0.13\n",
      "p-value: 0.37\n"
     ]
    },
    {
     "data": {
      "image/png": "[encoded data removed]",
      "text/plain": [
       "<Figure size 432x288 with 1 Axes>"
      ]
     },
     "metadata": {
      "needs_background": "light"
     },
     "output_type": "display_data"
    }
   ],
   "source": [
    "plec = [0,1]\n",
    "\n",
    "for pl in plec:\n",
    "    df_pl = df[df[\"Plec\"] == pl]\n",
    "    mediana = np.median(df_pl[\"Poglady_diff\"])\n",
    "    \n",
    "    df_spojne = df_pl[df_pl[\"Poglady_diff\"] <= mediana]\n",
    "    \n",
    "    print(pl)\n",
    "    print(\"Spojne poglady:\")\n",
    "    print()\n",
    "    cor = stats.pearsonr(df_spojne[\"SE\"], df_spojne[\"Przekonania_ekonomiczne\"])[0]\n",
    "    cor_p = stats.pearsonr(df_spojne[\"SE\"], df_spojne[\"Przekonania_ekonomiczne\"])[1]\n",
    "    print(f\"Pearson's r: {np.around(cor, 2)}\")\n",
    "    print(f\"p-value: {np.around(cor_p, 2)}\")\n",
    "    plt.scatter(x = df_spojne[\"SE\"], y = df_spojne[\"Przekonania_ekonomiczne\"])\n",
    "    plt.show()\n",
    "    \n",
    "    df_niespojne = df_pl[df_pl[\"Poglady_diff\"] > mediana]\n",
    "\n",
    "    print(pl)\n",
    "    print(\"Niespojne poglady:\")\n",
    "    print()\n",
    "    cor = stats.pearsonr(df_niespojne[\"SE\"], df_niespojne[\"Przekonania_ekonomiczne\"])[0]\n",
    "    cor_p = stats.pearsonr(df_niespojne[\"SE\"], df_niespojne[\"Przekonania_ekonomiczne\"])[1]\n",
    "    print(f\"Pearson's r: {np.around(cor, 2)}\")\n",
    "    print(f\"p-value: {np.around(cor_p, 2)}\")\n",
    "    plt.scatter(x = df_niespojne[\"SE\"], y = df_niespojne[\"Przekonania_ekonomiczne\"])\n",
    "    plt.show()"
   ]
  },
  {
   "cell_type": "markdown",
   "id": "d257d843",
   "metadata": {},
   "source": [
    "<br>\n",
    "<font size=\"5\">Coherent views + Sex: SE vs. Capitalism acceptance:</font>"
   ]
  },
  {
   "cell_type": "code",
   "execution_count": 14,
   "id": "5b4152ce",
   "metadata": {},
   "outputs": [
    {
     "name": "stdout",
     "output_type": "stream",
     "text": [
      "Spojne poglady:\n",
      "\n",
      "Pearson's r: 0.1\n",
      "p-value: 0.26\n"
     ]
    },
    {
     "data": {
      "image/png": "[encoded data removed]",
      "text/plain": [
       "<Figure size 432x288 with 1 Axes>"
      ]
     },
     "metadata": {
      "needs_background": "light"
     },
     "output_type": "display_data"
    },
    {
     "name": "stdout",
     "output_type": "stream",
     "text": [
      "Niespojne poglady:\n",
      "\n",
      "Pearson's r: 0.01\n",
      "p-value: 0.94\n"
     ]
    },
    {
     "data": {
      "image/png": "[encoded data removed]",
      "text/plain": [
       "<Figure size 432x288 with 1 Axes>"
      ]
     },
     "metadata": {
      "needs_background": "light"
     },
     "output_type": "display_data"
    }
   ],
   "source": [
    "df[\"Poglady_diff\"] = abs(df[\"Przekonania_kulturowe\"] - df[\"Przekonania_ekonomiczne\"])\n",
    "\n",
    "mediana = np.median(df[\"Poglady_diff\"])\n",
    "    \n",
    "df_spojne = df[df[\"Poglady_diff\"] <= mediana]\n",
    "    \n",
    "print(\"Spojne poglady:\")\n",
    "print()\n",
    "cor = stats.pearsonr(df_spojne[\"SE\"], df_spojne[\"Akceptacja_kapitalizmu\"])[0]\n",
    "cor_p = stats.pearsonr(df_spojne[\"SE\"], df_spojne[\"Akceptacja_kapitalizmu\"])[1]\n",
    "print(f\"Pearson's r: {np.around(cor, 2)}\")\n",
    "print(f\"p-value: {np.around(cor_p, 2)}\")\n",
    "plt.scatter(x = df_spojne[\"SE\"], y = df_spojne[\"Akceptacja_kapitalizmu\"])\n",
    "plt.show()\n",
    "    \n",
    "df_niespojne = df[df[\"Poglady_diff\"] > mediana]\n",
    "\n",
    "print(\"Niespojne poglady:\")\n",
    "print()\n",
    "cor = stats.pearsonr(df_niespojne[\"SE\"], df_niespojne[\"Akceptacja_kapitalizmu\"])[0]\n",
    "cor_p = stats.pearsonr(df_niespojne[\"SE\"], df_niespojne[\"Akceptacja_kapitalizmu\"])[1]\n",
    "print(f\"Pearson's r: {np.around(cor, 2)}\")\n",
    "print(f\"p-value: {np.around(cor_p, 2)}\")\n",
    "plt.scatter(x = df_niespojne[\"SE\"], y = df_niespojne[\"Akceptacja_kapitalizmu\"])\n",
    "plt.show()"
   ]
  },
  {
   "cell_type": "code",
   "execution_count": 15,
   "id": "d3a417d7",
   "metadata": {},
   "outputs": [
    {
     "name": "stdout",
     "output_type": "stream",
     "text": [
      "0\n",
      "Spojne poglady:\n",
      "\n",
      "Pearson's r: -0.01\n",
      "p-value: 0.92\n"
     ]
    },
    {
     "data": {
      "image/png": "[encoded data removed]",
      "text/plain": [
       "<Figure size 432x288 with 1 Axes>"
      ]
     },
     "metadata": {
      "needs_background": "light"
     },
     "output_type": "display_data"
    },
    {
     "name": "stdout",
     "output_type": "stream",
     "text": [
      "0\n",
      "Niespojne poglady:\n",
      "\n",
      "Pearson's r: 0.0\n",
      "p-value: 1.0\n"
     ]
    },
    {
     "data": {
      "image/png": "[encoded data removed]",
      "text/plain": [
       "<Figure size 432x288 with 1 Axes>"
      ]
     },
     "metadata": {
      "needs_background": "light"
     },
     "output_type": "display_data"
    },
    {
     "name": "stdout",
     "output_type": "stream",
     "text": [
      "1\n",
      "Spojne poglady:\n",
      "\n",
      "Pearson's r: 0.32\n",
      "p-value: 0.03\n"
     ]
    },
    {
     "data": {
      "image/png": "[encoded data removed]",
      "text/plain": [
       "<Figure size 432x288 with 1 Axes>"
      ]
     },
     "metadata": {
      "needs_background": "light"
     },
     "output_type": "display_data"
    },
    {
     "name": "stdout",
     "output_type": "stream",
     "text": [
      "1\n",
      "Niespojne poglady:\n",
      "\n",
      "Pearson's r: 0.02\n",
      "p-value: 0.92\n"
     ]
    },
    {
     "data": {
      "image/png": "[encoded data removed]",
      "text/plain": [
       "<Figure size 432x288 with 1 Axes>"
      ]
     },
     "metadata": {
      "needs_background": "light"
     },
     "output_type": "display_data"
    }
   ],
   "source": [
    "plec = [0,1]\n",
    "\n",
    "for pl in plec:\n",
    "    df_pl = df[df[\"Plec\"] == pl]\n",
    "    mediana = np.median(df_pl[\"Poglady_diff\"])\n",
    "    \n",
    "    df_spojne = df_pl[df_pl[\"Poglady_diff\"] <= mediana]\n",
    "    \n",
    "    print(pl)\n",
    "    print(\"Spojne poglady:\")\n",
    "    print()\n",
    "    cor = stats.pearsonr(df_spojne[\"SE\"], df_spojne[\"Akceptacja_kapitalizmu\"])[0]\n",
    "    cor_p = stats.pearsonr(df_spojne[\"SE\"], df_spojne[\"Akceptacja_kapitalizmu\"])[1]\n",
    "    print(f\"Pearson's r: {np.around(cor, 2)}\")\n",
    "    print(f\"p-value: {np.around(cor_p, 2)}\")\n",
    "    plt.scatter(x = df_spojne[\"SE\"], y = df_spojne[\"Akceptacja_kapitalizmu\"])\n",
    "    plt.show()\n",
    "    \n",
    "    df_niespojne = df_pl[df_pl[\"Poglady_diff\"] > mediana]\n",
    "\n",
    "    print(pl)\n",
    "    print(\"Niespojne poglady:\")\n",
    "    print()\n",
    "    cor = stats.pearsonr(df_niespojne[\"SE\"], df_niespojne[\"Akceptacja_kapitalizmu\"])[0]\n",
    "    cor_p = stats.pearsonr(df_niespojne[\"SE\"], df_niespojne[\"Akceptacja_kapitalizmu\"])[1]\n",
    "    print(f\"Pearson's r: {np.around(cor, 2)}\")\n",
    "    print(f\"p-value: {np.around(cor_p, 2)}\")\n",
    "    plt.scatter(x = df_niespojne[\"SE\"], y = df_niespojne[\"Akceptacja_kapitalizmu\"])\n",
    "    plt.show()"
   ]
  },
  {
   "cell_type": "markdown",
   "id": "01ac605e",
   "metadata": {},
   "source": [
    "<br>\n",
    "<font size=\"5\">Coherent views + Sex: SE vs. Anti-Interventionism:</font>"
   ]
  },
  {
   "cell_type": "code",
   "execution_count": 16,
   "id": "80abd909",
   "metadata": {},
   "outputs": [
    {
     "name": "stdout",
     "output_type": "stream",
     "text": [
      "Spojne poglady:\n",
      "\n",
      "Pearson's r: 0.09\n",
      "p-value: 0.56\n"
     ]
    },
    {
     "data": {
      "image/png": "[encoded data removed]",
      "text/plain": [
       "<Figure size 432x288 with 1 Axes>"
      ]
     },
     "metadata": {
      "needs_background": "light"
     },
     "output_type": "display_data"
    },
    {
     "name": "stdout",
     "output_type": "stream",
     "text": [
      "Niespojne poglady:\n",
      "\n",
      "Pearson's r: 0.18\n",
      "p-value: 0.21\n"
     ]
    },
    {
     "data": {
      "image/png": "[encoded data removed]",
      "text/plain": [
       "<Figure size 432x288 with 1 Axes>"
      ]
     },
     "metadata": {
      "needs_background": "light"
     },
     "output_type": "display_data"
    }
   ],
   "source": [
    "mediana = np.median(df[\"Poglady_diff\"])\n",
    "    \n",
    "df_spojne = df_pl[df_pl[\"Poglady_diff\"] <= mediana]\n",
    "    \n",
    "print(\"Spojne poglady:\")\n",
    "print()\n",
    "cor = stats.pearsonr(df_spojne[\"SE\"], df_spojne[\"Antyinterwencjonizm\"])[0]\n",
    "cor_p = stats.pearsonr(df_spojne[\"SE\"], df_spojne[\"Antyinterwencjonizm\"])[1]\n",
    "print(f\"Pearson's r: {np.around(cor, 2)}\")\n",
    "print(f\"p-value: {np.around(cor_p, 2)}\")\n",
    "plt.scatter(x = df_spojne[\"SE\"], y = df_spojne[\"Antyinterwencjonizm\"])\n",
    "plt.show()\n",
    "    \n",
    "df_niespojne = df_pl[df_pl[\"Poglady_diff\"] > mediana]\n",
    "\n",
    "print(\"Niespojne poglady:\")\n",
    "print()\n",
    "cor = stats.pearsonr(df_niespojne[\"SE\"], df_niespojne[\"Antyinterwencjonizm\"])[0]\n",
    "cor_p = stats.pearsonr(df_niespojne[\"SE\"], df_niespojne[\"Antyinterwencjonizm\"])[1]\n",
    "print(f\"Pearson's r: {np.around(cor, 2)}\")\n",
    "print(f\"p-value: {np.around(cor_p, 2)}\")\n",
    "plt.scatter(x = df_niespojne[\"SE\"], y = df_niespojne[\"Antyinterwencjonizm\"])\n",
    "plt.show()"
   ]
  },
  {
   "cell_type": "code",
   "execution_count": 17,
   "id": "1fdeb345",
   "metadata": {},
   "outputs": [
    {
     "name": "stdout",
     "output_type": "stream",
     "text": [
      "0\n",
      "Spojne poglady:\n",
      "\n",
      "Pearson's r: 0.03\n",
      "p-value: 0.81\n"
     ]
    },
    {
     "data": {
      "image/png": "[encoded data removed]",
      "text/plain": [
       "<Figure size 432x288 with 1 Axes>"
      ]
     },
     "metadata": {
      "needs_background": "light"
     },
     "output_type": "display_data"
    },
    {
     "name": "stdout",
     "output_type": "stream",
     "text": [
      "0\n",
      "Niespojne poglady:\n",
      "\n",
      "Pearson's r: -0.1\n",
      "p-value: 0.36\n"
     ]
    },
    {
     "data": {
      "image/png": "[encoded data removed]",
      "text/plain": [
       "<Figure size 432x288 with 1 Axes>"
      ]
     },
     "metadata": {
      "needs_background": "light"
     },
     "output_type": "display_data"
    },
    {
     "name": "stdout",
     "output_type": "stream",
     "text": [
      "1\n",
      "Spojne poglady:\n",
      "\n",
      "Pearson's r: 0.11\n",
      "p-value: 0.46\n"
     ]
    },
    {
     "data": {
      "image/png": "[encoded data removed]",
      "text/plain": [
       "<Figure size 432x288 with 1 Axes>"
      ]
     },
     "metadata": {
      "needs_background": "light"
     },
     "output_type": "display_data"
    },
    {
     "name": "stdout",
     "output_type": "stream",
     "text": [
      "1\n",
      "Niespojne poglady:\n",
      "\n",
      "Pearson's r: 0.22\n",
      "p-value: 0.14\n"
     ]
    },
    {
     "data": {
      "image/png": "[encoded data removed]",
      "text/plain": [
       "<Figure size 432x288 with 1 Axes>"
      ]
     },
     "metadata": {
      "needs_background": "light"
     },
     "output_type": "display_data"
    }
   ],
   "source": [
    "plec = [0,1]\n",
    "\n",
    "for pl in plec:\n",
    "    df_pl = df[df[\"Plec\"] == pl]\n",
    "    mediana = np.median(df_pl[\"Poglady_diff\"])\n",
    "    \n",
    "    df_spojne = df_pl[df_pl[\"Poglady_diff\"] <= mediana]\n",
    "    \n",
    "    print(pl)\n",
    "    print(\"Spojne poglady:\")\n",
    "    print()\n",
    "    cor = stats.pearsonr(df_spojne[\"SE\"], df_spojne[\"Antyinterwencjonizm\"])[0]\n",
    "    cor_p = stats.pearsonr(df_spojne[\"SE\"], df_spojne[\"Antyinterwencjonizm\"])[1]\n",
    "    print(f\"Pearson's r: {np.around(cor, 2)}\")\n",
    "    print(f\"p-value: {np.around(cor_p, 2)}\")\n",
    "    plt.scatter(x = df_spojne[\"SE\"], y = df_spojne[\"Antyinterwencjonizm\"])\n",
    "    plt.show()\n",
    "    \n",
    "    df_niespojne = df_pl[df_pl[\"Poglady_diff\"] > mediana]\n",
    "\n",
    "    print(pl)\n",
    "    print(\"Niespojne poglady:\")\n",
    "    print()\n",
    "    cor = stats.pearsonr(df_niespojne[\"SE\"], df_niespojne[\"Antyinterwencjonizm\"])[0]\n",
    "    cor_p = stats.pearsonr(df_niespojne[\"SE\"], df_niespojne[\"Antyinterwencjonizm\"])[1]\n",
    "    print(f\"Pearson's r: {np.around(cor, 2)}\")\n",
    "    print(f\"p-value: {np.around(cor_p, 2)}\")\n",
    "    plt.scatter(x = df_niespojne[\"SE\"], y = df_niespojne[\"Antyinterwencjonizm\"])\n",
    "    plt.show()"
   ]
  }
 ],
 "metadata": {
  "kernelspec": {
   "display_name": "Python 3 (ipykernel)",
   "language": "python",
   "name": "python3"
  },
  "language_info": {
   "codemirror_mode": {
    "name": "ipython",
    "version": 3
   },
   "file_extension": ".py",
   "mimetype": "text/x-python",
   "name": "python",
   "nbconvert_exporter": "python",
   "pygments_lexer": "ipython3",
   "version": "3.9.12"
  },
  "toc": {
   "base_numbering": 1,
   "nav_menu": {},
   "number_sections": true,
   "sideBar": true,
   "skip_h1_title": false,
   "title_cell": "Table of Contents",
   "title_sidebar": "Contents",
   "toc_cell": false,
   "toc_position": {},
   "toc_section_display": true,
   "toc_window_display": false
  },
  "varInspector": {
   "cols": {
    "lenName": 16,
    "lenType": 16,
    "lenVar": 40
   },
   "kernels_config": {
    "python": {
     "delete_cmd_postfix": "",
     "delete_cmd_prefix": "del ",
     "library": "var_list.py",
     "varRefreshCmd": "print(var_dic_list())"
    },
    "r": {
     "delete_cmd_postfix": ") ",
     "delete_cmd_prefix": "rm(",
     "library": "var_list.r",
     "varRefreshCmd": "cat(var_dic_list()) "
    }
   },
   "types_to_exclude": [
    "module",
    "function",
    "builtin_function_or_method",
    "instance",
    "_Feature"
   ],
   "window_display": false
  }
 },
 "nbformat": 4,
 "nbformat_minor": 5
}
